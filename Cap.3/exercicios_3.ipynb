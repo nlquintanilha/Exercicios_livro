{
  "nbformat": 4,
  "nbformat_minor": 0,
  "metadata": {
    "colab": {
      "provenance": []
    },
    "kernelspec": {
      "name": "python3",
      "display_name": "Python 3"
    },
    "language_info": {
      "name": "python"
    }
  },
  "cells": [
    {
      "cell_type": "code",
      "execution_count": 1,
      "metadata": {
        "colab": {
          "base_uri": "https://localhost:8080/"
        },
        "id": "zpXOVKpS6OhO",
        "outputId": "575cbf28-d25a-4ce9-c178-2911a6ad16d4"
      },
      "outputs": [
        {
          "output_type": "stream",
          "name": "stdout",
          "text": [
            "                                                                 monty\n"
          ]
        }
      ],
      "source": [
        "def right_justify(s):        # justifica um string à direita\n",
        "    spaces = 70 - len(s)     # calcula quantos espaços precisam ser adicionados antes da string\n",
        "    print(' ' * spaces + s)  # imprime os espaços seguidos da string\n",
        "\n",
        "# Teste:\n",
        "right_justify('monty')"
      ]
    },
    {
      "cell_type": "code",
      "source": [
        "def right_justify(s):\n",
        "  try:\n",
        "    if not isinstance(s, str):\n",
        "      raise TypeError(\"O argumento deve ser uma string.\")\n",
        "\n",
        "    if len(s) > 70:\n",
        "      raise ValueError(\"A string não pode ter mais de 70 caracteres.\")\n",
        "\n",
        "    spaces = 70 - len(s)\n",
        "    print(' ' * spaces + s)\n",
        "\n",
        "  except TypeError as e:\n",
        "    print(f\"Erro de tipo: {e}\")\n",
        "\n",
        "  except ValueError as e:\n",
        "    print(f\"Erro de valor: {e}\")\n",
        "\n",
        "  except Exception as e:\n",
        "    print(f\"Erro desconhecido: {e}\")\n",
        "\n",
        "# testes:\n",
        "\n",
        "print(\"Teste 1 - String normal:\")\n",
        "right_justify('monty')\n",
        "\n",
        "print(\"\\nTeste 2 - String muito longa:\")\n",
        "right_justify(\"Esta é uma string muito longa que possui mais de 70 caracteres para testar o tratamento de exceção\")\n",
        "\n",
        "print(\"\\nTeste 3 - String vazia:\")\n",
        "right_justify('')"
      ],
      "metadata": {
        "colab": {
          "base_uri": "https://localhost:8080/"
        },
        "id": "8_CNyo6HyM_i",
        "outputId": "06f399e6-bb37-479d-dfc7-8987554890da"
      },
      "execution_count": 26,
      "outputs": [
        {
          "output_type": "stream",
          "name": "stdout",
          "text": [
            "Teste 1 - String normal:\n",
            "                                                                 monty\n",
            "\n",
            "Teste 2 - String muito longa:\n",
            "Erro de valor: A string não pode ter mais de 70 caracteres.\n",
            "\n",
            "Teste 3 - String vazia:\n",
            "                                                                      \n"
          ]
        }
      ]
    },
    {
      "cell_type": "code",
      "source": [
        "def do_twice(f):\n",
        "   \"\"\"\n",
        "    Executa a função 'f' duas vezes.\n",
        "    Captura e exibe qualquer exceção que ocorra durante a execução de 'f'.\n",
        "    \"\"\"\n",
        "    f()\n",
        "    f()\n",
        "\n",
        "def print_spam():\n",
        "    print('spam')\n",
        "\n",
        "# Testando\n",
        "do_twice(print_spam)"
      ],
      "metadata": {
        "colab": {
          "base_uri": "https://localhost:8080/"
        },
        "id": "1DN_mgK16hkD",
        "outputId": "4194d36b-dea7-44cd-cf4d-3d912fe38802"
      },
      "execution_count": null,
      "outputs": [
        {
          "output_type": "stream",
          "name": "stdout",
          "text": [
            "spam\n",
            "spam\n"
          ]
        }
      ]
    },
    {
      "cell_type": "code",
      "source": [
        "def do_twice(f):\n",
        "    \"\"\"\n",
        "    Executa a função 'f' duas vezes.\n",
        "    Captura e exibe qualquer exceção que ocorra durante a execução de 'f'.\n",
        "    \"\"\"\n",
        "    try:\n",
        "        f() # Primeira tentativa de execução\n",
        "    except Exception as e:\n",
        "        print(f\"Erro na primeira execução da função: {e}\")\n",
        "\n",
        "    try:\n",
        "        f() # Segunda tentativa de execução\n",
        "    except Exception as e:\n",
        "        print(f\"Erro na segunda execução da função: {e}\")\n",
        "\n",
        "def print_spam():\n",
        "    \"\"\"\n",
        "    Imprime 'spam'.\n",
        "    \"\"\"\n",
        "    print('spam')\n",
        "\n",
        "def raise_error():\n",
        "    \"\"\"\n",
        "    Uma função de exemplo que sempre levanta um erro.\n",
        "    \"\"\"\n",
        "    raise ValueError(\"Ops! Um erro ocorreu nesta função!\")\n",
        "\n",
        "#Testando\n",
        "\n",
        "print(\"--- Teste 1: Com função que não gera erro (print_spam) ---\")\n",
        "do_twice(print_spam)\n",
        "print(\"\\n\")\n",
        "\n",
        "print(\"--- Teste 2: Com função que gera erro (raise_error) ---\")\n",
        "do_twice(raise_error)\n",
        "print(\"\\n\")\n",
        "\n",
        "print(\"--- Teste 3: Com função inexistente (exemplo de TypeError) ---\")\n",
        "try:\n",
        "    do_twice(\"isso não é uma função\") # Isso causará um TypeError porque \"isso não é uma função\" não é chamável\n",
        "except TypeError as e:\n",
        "    print(f\"Erro ao tentar chamar do_twice com algo que não é uma função: {e}\")\n"
      ],
      "metadata": {
        "colab": {
          "base_uri": "https://localhost:8080/"
        },
        "id": "J2lCMAFal89J",
        "outputId": "40f6ce1c-1add-4f48-eb5c-14ded1ce6755"
      },
      "execution_count": 3,
      "outputs": [
        {
          "output_type": "stream",
          "name": "stdout",
          "text": [
            "--- Teste 1: Com função que não gera erro (print_spam) ---\n",
            "spam\n",
            "spam\n",
            "\n",
            "\n",
            "--- Teste 2: Com função que gera erro (raise_error) ---\n",
            "Erro na primeira execução da função: Ops! Um erro ocorreu nesta função!\n",
            "Erro na segunda execução da função: Ops! Um erro ocorreu nesta função!\n",
            "\n",
            "\n",
            "--- Teste 3: Com função inexistente (exemplo de TypeError) ---\n",
            "Erro na primeira execução da função: 'str' object is not callable\n",
            "Erro na segunda execução da função: 'str' object is not callable\n"
          ]
        }
      ]
    },
    {
      "cell_type": "code",
      "source": [
        "def do_twice(f, value):\n",
        "    f(value)\n",
        "    f(value)\n",
        "\n",
        "def print_twice(s):\n",
        "    print(s)\n",
        "    print(s)\n",
        "do_twice(print_twice, 'spam')\n"
      ],
      "metadata": {
        "colab": {
          "base_uri": "https://localhost:8080/"
        },
        "id": "oLfUXaXf6kI4",
        "outputId": "661a3222-eb5b-417b-8965-568a1716b2dc"
      },
      "execution_count": null,
      "outputs": [
        {
          "output_type": "stream",
          "name": "stdout",
          "text": [
            "spam\n",
            "spam\n",
            "spam\n",
            "spam\n"
          ]
        }
      ]
    },
    {
      "cell_type": "code",
      "source": [
        "def do_four(f, value):\n",
        "    do_twice(f, value)\n",
        "    do_twice(f, value)\n",
        "\n",
        "do_four(print_twice, 'eggs')\n",
        "\n"
      ],
      "metadata": {
        "colab": {
          "base_uri": "https://localhost:8080/"
        },
        "id": "Sds1QZ767FoS",
        "outputId": "06a4793f-2812-455c-cea5-64e8f06be8d9"
      },
      "execution_count": null,
      "outputs": [
        {
          "output_type": "stream",
          "name": "stdout",
          "text": [
            "eggs\n",
            "eggs\n",
            "eggs\n",
            "eggs\n",
            "eggs\n",
            "eggs\n",
            "eggs\n",
            "eggs\n"
          ]
        }
      ]
    },
    {
      "cell_type": "code",
      "source": [
        "def horizontal():\n",
        "    print('+ - - - - + - - - - +')\n",
        "\n",
        "def vertical():\n",
        "    print('|         |         |')\n",
        "\n",
        "def two_by_two_grid():  # desenha uma grade 2x2\n",
        "    for _ in range(2):  # for cria um loop / range (2) vai se repetir 2x\n",
        "        horizontal()\n",
        "        for _ in range(4):  # 4 linhas verticais por célula\n",
        "            vertical()\n",
        "    horizontal()\n",
        "\n",
        "# Teste:\n",
        "two_by_two_grid()\n"
      ],
      "metadata": {
        "colab": {
          "base_uri": "https://localhost:8080/"
        },
        "id": "oqE0jA1-8uYf",
        "outputId": "48c8d397-c838-46e1-95fe-a327a7358272"
      },
      "execution_count": 15,
      "outputs": [
        {
          "output_type": "stream",
          "name": "stdout",
          "text": [
            "+ - - - - + - - - - +\n",
            "|         |         |\n",
            "|         |         |\n",
            "|         |         |\n",
            "|         |         |\n",
            "+ - - - - + - - - - +\n",
            "|         |         |\n",
            "|         |         |\n",
            "|         |         |\n",
            "|         |         |\n",
            "+ - - - - + - - - - +\n"
          ]
        }
      ]
    },
    {
      "cell_type": "code",
      "source": [
        "def horizontal():\n",
        "    try:\n",
        "        print('+ - - - - + - - - - +')\n",
        "    except Exception as e:\n",
        "        print(f\"Erro ao imprimir linha horizontal: {e}\")\n",
        "\n",
        "def vertical():\n",
        "    try:\n",
        "        print('|         |         |')\n",
        "    except Exception as e:\n",
        "        print(f\"Erro ao imprimir linha vertical: {e}\")\n",
        "\n",
        "def two_by_two_grid():\n",
        "    try:\n",
        "        for _ in range(2):\n",
        "            horizontal()\n",
        "            for _ in range(4):  # Loop interno que executa 4 vezes\n",
        "                vertical()\n",
        "        horizontal()\n",
        "    except Exception as e:\n",
        "        print(f\"Erro ao criar o grid 2x2: {e}\")\n",
        "\n",
        "# Teste:\n",
        "try:\n",
        "    two_by_two_grid()\n",
        "except Exception as e:\n",
        "    print(f\"Erro durante a execução do programa: {e}\")"
      ],
      "metadata": {
        "colab": {
          "base_uri": "https://localhost:8080/"
        },
        "id": "tsKVigXLpwhR",
        "outputId": "30e59862-695d-426c-c77e-44516f4b4601"
      },
      "execution_count": 17,
      "outputs": [
        {
          "output_type": "stream",
          "name": "stdout",
          "text": [
            "+ - - - - + - - - - +\n",
            "|         |         |\n",
            "|         |         |\n",
            "|         |         |\n",
            "|         |         |\n",
            "+ - - - - + - - - - +\n",
            "|         |         |\n",
            "|         |         |\n",
            "|         |         |\n",
            "|         |         |\n",
            "+ - - - - + - - - - +\n"
          ]
        }
      ]
    },
    {
      "cell_type": "code",
      "source": [],
      "metadata": {
        "id": "UwGrITYgpXZe"
      },
      "execution_count": null,
      "outputs": []
    },
    {
      "cell_type": "code",
      "source": [
        "def print_horizontal(n_cols):\n",
        "    print('+ ' + ('- - - - + ' * n_cols))\n",
        "\n",
        "def print_vertical(n_cols):\n",
        "    print('|' + ('         |' * n_cols))\n",
        "\n",
        "def draw_grid(n_rows, n_cols):\n",
        "    for _ in range(n_rows):\n",
        "        print_horizontal(n_cols)\n",
        "        for _ in range(4):\n",
        "            print_vertical(n_cols)\n",
        "    print_horizontal(n_cols)\n",
        "\n",
        "# Teste:\n",
        "draw_grid(4, 4)\n"
      ],
      "metadata": {
        "id": "YxmaTCor87oL",
        "outputId": "941acb9e-579a-41d5-ec04-582bb0b070de",
        "colab": {
          "base_uri": "https://localhost:8080/"
        }
      },
      "execution_count": null,
      "outputs": [
        {
          "output_type": "stream",
          "name": "stdout",
          "text": [
            "+ - - - - + - - - - + - - - - + - - - - + \n",
            "|         |         |         |         |\n",
            "|         |         |         |         |\n",
            "|         |         |         |         |\n",
            "|         |         |         |         |\n",
            "+ - - - - + - - - - + - - - - + - - - - + \n",
            "|         |         |         |         |\n",
            "|         |         |         |         |\n",
            "|         |         |         |         |\n",
            "|         |         |         |         |\n",
            "+ - - - - + - - - - + - - - - + - - - - + \n",
            "|         |         |         |         |\n",
            "|         |         |         |         |\n",
            "|         |         |         |         |\n",
            "|         |         |         |         |\n",
            "+ - - - - + - - - - + - - - - + - - - - + \n",
            "|         |         |         |         |\n",
            "|         |         |         |         |\n",
            "|         |         |         |         |\n",
            "|         |         |         |         |\n",
            "+ - - - - + - - - - + - - - - + - - - - + \n"
          ]
        }
      ]
    },
    {
      "cell_type": "code",
      "source": [
        "def print_horizontal (n_cols):\n",
        "    try:\n",
        "      if not isinstance(n_cols, int) or n_cols <= 0:   #validação composta\n",
        "        raise ValueError(\"n_cols deve ser um número inteiro positivo.\")\n",
        "\n",
        "      horizontal_line = '+' + (' - - - - + ' * n_cols)\n",
        "      print(horizontal_line)\n",
        "    except ValueError as e:\n",
        "      print(f\"Erro ao imprimir linha horizontal: {e}\")\n",
        "    except Exception as e:\n",
        "      print(f\"Erro ao imprimir linha horizontal: {e}\")\n",
        "\n",
        "def print_vertical(n_cols):\n",
        "    try:\n",
        "      if not isinstance(n_cols, int) or n_cols <= 0:   #validação composta\n",
        "        raise ValueError(\"n_cols deve ser um número inteiro positivo.\")\n",
        "\n",
        "      vertical_line = '|' + ('          |' * n_cols)\n",
        "      print(vertical_line)\n",
        "    except ValueError as e:\n",
        "      print(f\"Erro ao imprimir linha vertical: {e}\")\n",
        "    except Exception as e:\n",
        "      print(f\"Erro ao imprimir linha vertical: {e}\")\n",
        "\n",
        "\n",
        "def draw_grid(n_rows, n_cols):\n",
        "    try:\n",
        "      if not isinstance(n_rows, int) or n_rows <= 0:   #validação composta\n",
        "        raise ValueError(\"n_rows deve ser um número inteiro positivo.\")\n",
        "      if not isinstance(n_cols, int) or n_cols <= 0:   #validação composta\n",
        "        raise ValueError(\"n_cols deve ser um número inteiro positivo.\")\n",
        "\n",
        "      for _ in range(n_rows):     #lógica: para cada linha da grade\n",
        "        print_horizontal(n_cols)  #imprime borda superior\n",
        "        for _ in range(4):        # 4 linhas verticais\n",
        "          print_vertical(n_cols)  #imprime linhas verticais\n",
        "        print_horizontal(n_cols)\n",
        "\n",
        "    except ValueError as e:\n",
        "      print(f\"Erro ao desenhar a grade: {e}\")\n",
        "    except Exception as e:\n",
        "      print(f\"Erro ao desenhar a grade: {e}\")\n",
        "\n",
        "# Teste:\n",
        "try:\n",
        "  draw_grid(4, 4)\n",
        "except Exception as e:\n",
        "  print(f\"Erro durante a execução do programa: {e}\")\n"
      ],
      "metadata": {
        "colab": {
          "base_uri": "https://localhost:8080/"
        },
        "id": "jpgV_JM0t7hf",
        "outputId": "5e20eda2-07d7-4129-b12b-51858540d39e"
      },
      "execution_count": 24,
      "outputs": [
        {
          "output_type": "stream",
          "name": "stdout",
          "text": [
            "+ - - - - +  - - - - +  - - - - +  - - - - + \n",
            "|          |          |          |          |\n",
            "|          |          |          |          |\n",
            "|          |          |          |          |\n",
            "|          |          |          |          |\n",
            "+ - - - - +  - - - - +  - - - - +  - - - - + \n",
            "+ - - - - +  - - - - +  - - - - +  - - - - + \n",
            "|          |          |          |          |\n",
            "|          |          |          |          |\n",
            "|          |          |          |          |\n",
            "|          |          |          |          |\n",
            "+ - - - - +  - - - - +  - - - - +  - - - - + \n",
            "+ - - - - +  - - - - +  - - - - +  - - - - + \n",
            "|          |          |          |          |\n",
            "|          |          |          |          |\n",
            "|          |          |          |          |\n",
            "|          |          |          |          |\n",
            "+ - - - - +  - - - - +  - - - - +  - - - - + \n",
            "+ - - - - +  - - - - +  - - - - +  - - - - + \n",
            "|          |          |          |          |\n",
            "|          |          |          |          |\n",
            "|          |          |          |          |\n",
            "|          |          |          |          |\n",
            "+ - - - - +  - - - - +  - - - - +  - - - - + \n"
          ]
        }
      ]
    },
    {
      "cell_type": "code",
      "source": [],
      "metadata": {
        "id": "S6KFnADgstd8"
      },
      "execution_count": null,
      "outputs": []
    }
  ]
}